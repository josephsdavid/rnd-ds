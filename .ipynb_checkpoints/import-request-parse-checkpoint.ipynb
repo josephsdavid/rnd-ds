{
 "cells": [
  {
   "cell_type": "code",
   "execution_count": null,
   "metadata": {},
   "outputs": [],
   "source": [
    "from bs4 import BeautifulSoup\n",
    "import requests\n",
    "page_link ='https://www.bestbuy.com/site/acer-rt270-27-ips-led-fhd-monitor-black/6292319.p?skuId=6292319'\n",
    "# fetch the content from url\n",
    "page_response = requests.get(page_link, timeout=5)\n",
    "# parse html\n",
    "page_content = BeautifulSoup(page_response.content, \"html.parser\")\n",
    "\n",
    "# extract all html elements where price is stored\n",
    "prices = page_content.find_all(class_='main_price')\n",
    "# prices has a form:\n",
    "#[<div class=\"main_price\">Price: $66.68</div>,\n",
    "# <div class=\"main_price\">Price: $56.68</div>]\n",
    "\n",
    "# you can also access the main_price class by specifying the tag of the class\n",
    "prices = page_content.find_all('div', attrs={'class':'main_price'})\n",
    "\n",
    "print(prices)"
   ]
  },
  {
   "cell_type": "code",
   "execution_count": null,
   "metadata": {
    "collapsed": true
   },
   "outputs": [],
   "source": []
  }
 ],
 "metadata": {
  "kernelspec": {
   "display_name": "Python 3",
   "language": "python",
   "name": "python3"
  },
  "language_info": {
   "codemirror_mode": {
    "name": "ipython",
    "version": 3
   },
   "file_extension": ".py",
   "mimetype": "text/x-python",
   "name": "python",
   "nbconvert_exporter": "python",
   "pygments_lexer": "ipython3",
   "version": "3.7.2"
  }
 },
 "nbformat": 4,
 "nbformat_minor": 2
}
